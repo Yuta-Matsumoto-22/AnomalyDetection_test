{
 "cells": [
  {
   "cell_type": "code",
   "execution_count": 1,
   "metadata": {},
   "outputs": [],
   "source": [
    "%matplotlib inline\n",
    "import os\n",
    "import time\n",
    "import torch\n",
    "import torch.nn as nn\n",
    "import torch.utils as utils\n",
    "import torch.nn.init as init\n",
    "from torch.autograd import Variable\n",
    "import torchvision.utils as v_utils\n",
    "import torchvision.datasets as dset\n",
    "import torchvision.transforms as transforms\n",
    "import numpy as np\n",
    "import matplotlib.pyplot as plt\n",
    "from collections import OrderedDict\n",
    "\n",
    "import torch\n",
    "import torch.nn as nn\n",
    "from torch import optim\n",
    "import torchvision.datasets as dset\n",
    "import torchvision.transforms as transforms\n",
    "\n",
    "from utils import device_setting, seed_torch\n",
    "# from trainer import Trainer\n",
    "\n",
    "import matplotlib.pyplot as plt\n",
    "\n",
    "from sklearn.manifold import TSNE\n",
    "import numpy as np\n",
    "import matplotlib"
   ]
  },
  {
   "cell_type": "code",
   "execution_count": 3,
   "metadata": {},
   "outputs": [
    {
     "data": {
      "text/plain": [
       "'1.10.0+cu102'"
      ]
     },
     "execution_count": 3,
     "metadata": {},
     "output_type": "execute_result"
    }
   ],
   "source": [
    "torch.__version__"
   ]
  },
  {
   "cell_type": "code",
   "execution_count": 4,
   "metadata": {},
   "outputs": [],
   "source": [
    "mnist_train = dset.MNIST(\"./\", train=True, \n",
    "                            transform=transforms.Compose([\n",
    "                                # transforms.CenterCrop(224),\n",
    "                                transforms.ToTensor(),\n",
    "                                transforms.Lambda(lambda x: x.repeat(3,1,1)),\n",
    "                                # transforms.Normalize((0.5, 0.5, 0.5), (0.5, 0.5, 0.5)),\n",
    "                                \n",
    "                            ]),\n",
    "                            target_transform=None,\n",
    "                            download=True)\n",
    "# mask = mnist_train.targets == 0\n",
    "# mnist_train.data = mnist_train.data[mask]\n",
    "# mnist_train.targets = mnist_train.targets[mask]"
   ]
  },
  {
   "cell_type": "code",
   "execution_count": null,
   "metadata": {},
   "outputs": [],
   "source": [
    "tsne = TSNE(n_components=2, random_state = 0, perplexity = 30, n_iter = 1000)\n",
    "\n",
    "X_embedded = tsne.fit_transform(dataset_dict['test'][:][0].detach().numpy())"
   ]
  },
  {
   "cell_type": "code",
   "execution_count": 13,
   "metadata": {},
   "outputs": [],
   "source": [
    "import keras\n",
    "from keras.datasets import mnist\n",
    "import numpy as np\n",
    "from PIL import Image\n",
    "\n",
    "# 文字画像表示\n",
    "def ConvertToImg(img):\n",
    "    return Image.fromarray(np.uint8(img))\n",
    "\n",
    "# Kerasの関数でデータの読み込み。データをシャッフルして学習データと訓練データに分割\n",
    "(x_train, y_train), (x_test, y_test) = mnist.load_data()\n"
   ]
  },
  {
   "cell_type": "code",
   "execution_count": 24,
   "metadata": {},
   "outputs": [
    {
     "data": {
      "text/plain": [
       "array([8, 8, 8, ..., 8, 8, 8], dtype=uint8)"
      ]
     },
     "execution_count": 24,
     "metadata": {},
     "output_type": "execute_result"
    }
   ],
   "source": [
    "mask = y_train == 8\n",
    "y_train[mask]"
   ]
  },
  {
   "cell_type": "code",
   "execution_count": 26,
   "metadata": {},
   "outputs": [],
   "source": [
    "\n",
    "# MNIST一文字の幅\n",
    "chr_w = 28\n",
    "# MNIST一文字の高さ\n",
    "chr_h = 28\n",
    "# 表示する文字数\n",
    "num = 16\n",
    "\n",
    "# MNISTの文字をPILで１枚の画像に描画する\n",
    "canvas = Image.new('RGB', (int(chr_w * num/2), int(chr_h * num/2)), (255, 255, 255))\n",
    "\n",
    "# MNISTの文字を読み込んで描画\n",
    "i = 0\n",
    "for y in range( int(num/2) ):\n",
    "    for x in range( int(num/2) ):\n",
    "        chrImg = ConvertToImg(x_train[mask][i].reshape(chr_w, chr_h))\n",
    "        canvas.paste(chrImg, (chr_w*x, chr_h*y))\n",
    "        i = i + 1\n",
    "\n",
    "canvas.show()\n",
    "# 表示した画像をJPEGとして保存\n",
    "canvas.save('mnist.jpg', 'JPEG', quality=100, optimize=True)"
   ]
  },
  {
   "cell_type": "code",
   "execution_count": null,
   "metadata": {},
   "outputs": [],
   "source": []
  }
 ],
 "metadata": {
  "interpreter": {
   "hash": "8ff6ab8f38a67cb98fe6e77fa99caf109bfee3f4b4c75d0924a20577fd922a97"
  },
  "kernelspec": {
   "display_name": "Python 3.9.8 64-bit",
   "language": "python",
   "name": "python3"
  },
  "language_info": {
   "codemirror_mode": {
    "name": "ipython",
    "version": 3
   },
   "file_extension": ".py",
   "mimetype": "text/x-python",
   "name": "python",
   "nbconvert_exporter": "python",
   "pygments_lexer": "ipython3",
   "version": "3.9.8"
  },
  "orig_nbformat": 4
 },
 "nbformat": 4,
 "nbformat_minor": 2
}
